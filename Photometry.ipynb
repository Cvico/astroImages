{
 "cells": [
  {
   "cell_type": "code",
   "execution_count": 1,
   "id": "79b59849",
   "metadata": {},
   "outputs": [],
   "source": [
    "# Define the paths to the images to easily access them later\n",
    "\n",
    "\n",
    "\n"
   ]
  },
  {
   "cell_type": "code",
   "execution_count": 2,
   "id": "58ce1e0f",
   "metadata": {},
   "outputs": [
    {
     "name": "stderr",
     "output_type": "stream",
     "text": [
      "WARNING: AstropyDeprecationWarning: block_reduce was moved to the astropy.nddata.blocks module.  Please update your import statement. [astropy.nddata.utils]\n"
     ]
    }
   ],
   "source": [
    "import os\n",
    "from astropy.io import fits\n",
    "from src.functions import *\n",
    "import numpy as np\n",
    "from astropy.nddata import CCDData\n",
    "from astropy.stats import mad_std\n",
    "import ccdproc as ccdp\n",
    "from astropy import units as u\n",
    "import matplotlib.pyplot as plt"
   ]
  },
  {
   "cell_type": "code",
   "execution_count": 85,
   "id": "6a383ba3",
   "metadata": {},
   "outputs": [],
   "source": []
  },
  {
   "cell_type": "code",
   "execution_count": 86,
   "id": "5a8364b3",
   "metadata": {},
   "outputs": [],
   "source": [
    "\n",
    "def get_collection(path):\n",
    "    coll = ccdp.ImageFileCollection(path)\n",
    "    return coll\n",
    "\n",
    "def make_path(path):\n",
    "    if not os.path.exists(path): os.system(\"mkdir -p %s\"%path)\n",
    "    return\n",
    "\n",
    "def open_ccd_image(file_name, unit):\n",
    "    im = CCDData(fits.getdata(file_name), meta=fits.getheader(file_name), unit = unit)\n",
    "    return im\n",
    "\n",
    "def combine_images(to_calibrate, pars, scale = None):\n",
    "    pars_forCombining = tuple( [ pars[\"combine\"][key] for key in pars[\"combine\"] ] )\n",
    "    \n",
    "    method, sigma_clip_low_thresh, sigma_clip_high_thresh,\\\n",
    "    sigma_clip_func, sigma_clip_dev_func, unit = pars_forCombining\n",
    "    \n",
    "    if scale != None:\n",
    "        # Use a function to scale images\n",
    "        combined = ccdp.combine(to_calibrate,\n",
    "                            method=method,\n",
    "                            scale = scale,\n",
    "                            sigma_clip=True, \n",
    "                            sigma_clip_low_thresh=sigma_clip_low_thresh, \n",
    "                            sigma_clip_high_thresh=sigma_clip_high_thresh,\n",
    "                            sigma_clip_func=sigma_clip_func, \n",
    "                            sigma_clip_dev_func=sigma_clip_dev_func,\n",
    "                            unit = unit)\n",
    "    else:\n",
    "        combined = ccdp.combine(to_calibrate,\n",
    "                            method=method,\n",
    "                            sigma_clip=True, \n",
    "                            sigma_clip_low_thresh=sigma_clip_low_thresh, \n",
    "                            sigma_clip_high_thresh=sigma_clip_high_thresh,\n",
    "                            sigma_clip_func=sigma_clip_func, \n",
    "                            sigma_clip_dev_func=sigma_clip_dev_func,\n",
    "                            unit = unit)\n",
    "    \n",
    "    combined.meta['combined'] = True\n",
    "    return combined\n",
    "\n",
    "\n",
    "def get_collection(path):\n",
    "    coll = ccdp.ImageFileCollection(path)\n",
    "    return coll\n",
    "\n",
    "\n",
    "def get_files_to_calibrate(path, imagetyp):\n",
    "    # Obtain a collection with the images\n",
    "    reduced_images = get_collection(path)\n",
    "    # Get a filtered list of the images to be calibrated\n",
    "    to_calibrate = reduced_images.files_filtered(imagetyp = imagetyp, include_path=True)\n",
    "    return to_calibrate\n",
    "\n",
    "\n",
    "\n",
    "def calibrate_images(pars):\n",
    "    # Make sure all paths exist\n",
    "    make_path(pars[\"paths\"][\"comb_out\"])\n",
    "    make_path(pars[\"paths\"][\"red_darks\"])\n",
    "    make_path(pars[\"paths\"][\"red_flats\"])\n",
    "    make_path(pars[\"paths\"][\"red_lights\"])\n",
    "    \n",
    "    print('-------------- Combining bias --------------')\n",
    "\n",
    "    # Combine biases into one single image\n",
    "    calibrated_bias = get_files_to_calibrate(pars[\"paths\"][\"Bias\"], 'Bias Frame')\n",
    "    master_bias = combine_images(calibrated_bias, pars)\n",
    "    master_bias.write(pars[\"paths\"][\"comb_out\"] + '/combined_bias.fits')\n",
    "    \n",
    "    print('-------------- Calibrating darks --------------')\n",
    "    # Now calibrate darks with bias and combine them into a master image\n",
    "    calibrated_darks = get_files_to_calibrate(pars[\"paths\"][\"Dark\"], 'Dark Frame')\n",
    "    for dark in calibrated_darks:\n",
    "        name = dark.split(\"/\")[-1]\n",
    "        print(\"Calibrating dark: %s and saving it to: %s\"%(dark, name))\n",
    "        \n",
    "        # -- Extract the proper image array\n",
    "        im = open_ccd_image(dark, pars[\"combine\"][\"unit\"])\n",
    "        \n",
    "        # Subtract them the bias\n",
    "        im = ccdp.subtract_bias(im, master_bias)\n",
    "        \n",
    "        # Save the result\n",
    "        im.write(pars[\"paths\"][\"red_darks\"] + \"/\" + name)\n",
    "        \n",
    "    print('-------------- Combining darks --------------')\n",
    "    # Having calibrated the darks, we can combine them. We only have one exposure \n",
    "    # for the darks, so we are just going to save one dark master image.\n",
    "    reduced_darks = get_files_to_calibrate(pars[\"paths\"][\"red_darks\"], 'Dark Frame')\n",
    "    master_dark = combine_images(reduced_darks, pars)\n",
    "    master_dark.write(pars[\"paths\"][\"comb_out\"] + '/combined_dark.fits')\n",
    "    \n",
    "    print('-------------- Calibrating Flats --------------')\n",
    "    # Now it is time to calibrate the flats\n",
    "    calibrated_flats = get_files_to_calibrate(pars[\"paths\"][\"Flat\"], 'Flat Frame')\n",
    "    for flat in calibrated_flats:\n",
    "        name = flat.split(\"/\")[-1]\n",
    "        im_flat = open_ccd_image(flat, pars[\"combine\"][\"unit\"])\n",
    "        # Subtract the dark current \n",
    "        im_flat = ccdp.subtract_dark(im_flat,\n",
    "                                     master_dark,\n",
    "                                     exposure_time='exptime',\n",
    "                                     exposure_unit=u.second)\n",
    "        im_flat.write(pars[\"paths\"][\"red_flats\"] + '/' + name)\n",
    "        \n",
    "    print('-------------- Combining Flats --------------')\n",
    "    reduced_flats = get_files_to_calibrate(pars[\"paths\"][\"red_flats\"], 'Flat Frame')\n",
    "    \n",
    "    master_flat = combine_images(reduced_flats, pars, lambda x: 1 / np.median(x) )\n",
    "    master_flat.write(pars[\"paths\"][\"comb_out\"] + '/combined_flat.fits')\n",
    "    \n",
    "    print('-------------- Calibrating Lights --------------')\n",
    "    # Now get on with the lights\n",
    "    calibrated_lights = get_files_to_calibrate(pars[\"paths\"][\"Light\"], 'Light Frame')\n",
    "    for light in calibrated_lights:\n",
    "        name = light.split(\"/\")[-1]\n",
    "        \n",
    "        # -- Extract the proper image array\n",
    "        \n",
    "        im_light = open_ccd_image(light, pars[\"combine\"][\"unit\"])\n",
    "\n",
    "        # Extract the bias\n",
    "        reduced = ccdp.subtract_bias(im_light, master_bias)\n",
    "\n",
    "        # Extract the darks\n",
    "        reduced = ccdp.subtract_dark(reduced, master_dark, \n",
    "                                     exposure_time='exptime', exposure_unit=u.second)\n",
    "\n",
    "        # Correct with the Flats\n",
    "        reduced = ccdp.flat_correct(reduced, master_flat)\n",
    "        reduced.write(pars[\"paths\"][\"red_lights\"] + '/' + name)\n",
    "\n",
    "    return"
   ]
  },
  {
   "cell_type": "code",
   "execution_count": 87,
   "id": "9e81159f",
   "metadata": {
    "scrolled": false
   },
   "outputs": [
    {
     "name": "stdout",
     "output_type": "stream",
     "text": [
      "-------------- Starting calibration --------------\n",
      "-------------- Combining bias --------------\n",
      "-------------- Calibrating darks --------------\n",
      "Calibrating dark: ./images/SN2021hiz/Dark/Dark_Dark_60_secs_001.fits and saving it to: Dark_Dark_60_secs_001.fits\n",
      "Calibrating dark: ./images/SN2021hiz/Dark/Dark_Dark_60_secs_002.fits and saving it to: Dark_Dark_60_secs_002.fits\n",
      "Calibrating dark: ./images/SN2021hiz/Dark/Dark_Dark_60_secs_003.fits and saving it to: Dark_Dark_60_secs_003.fits\n",
      "Calibrating dark: ./images/SN2021hiz/Dark/Dark_Dark_60_secs_004.fits and saving it to: Dark_Dark_60_secs_004.fits\n",
      "Calibrating dark: ./images/SN2021hiz/Dark/Dark_Dark_60_secs_005.fits and saving it to: Dark_Dark_60_secs_005.fits\n",
      "Calibrating dark: ./images/SN2021hiz/Dark/Dark_Dark_60_secs_006.fits and saving it to: Dark_Dark_60_secs_006.fits\n"
     ]
    },
    {
     "name": "stderr",
     "output_type": "stream",
     "text": [
      "INFO:astropy:using the unit adu passed to the FITS reader instead of the unit adu in the FITS file.\n",
      "INFO:astropy:using the unit adu passed to the FITS reader instead of the unit adu in the FITS file.\n",
      "INFO:astropy:using the unit adu passed to the FITS reader instead of the unit adu in the FITS file.\n",
      "INFO:astropy:using the unit adu passed to the FITS reader instead of the unit adu in the FITS file.\n",
      "INFO:astropy:using the unit adu passed to the FITS reader instead of the unit adu in the FITS file.\n",
      "INFO:astropy:using the unit adu passed to the FITS reader instead of the unit adu in the FITS file.\n",
      "INFO:astropy:using the unit adu passed to the FITS reader instead of the unit adu in the FITS file.\n"
     ]
    },
    {
     "name": "stdout",
     "output_type": "stream",
     "text": [
      "Calibrating dark: ./images/SN2021hiz/Dark/Dark_Dark_60_secs_007.fits and saving it to: Dark_Dark_60_secs_007.fits\n",
      "Calibrating dark: ./images/SN2021hiz/Dark/Dark_Dark_60_secs_008.fits and saving it to: Dark_Dark_60_secs_008.fits\n",
      "Calibrating dark: ./images/SN2021hiz/Dark/Dark_Dark_60_secs_009.fits and saving it to: Dark_Dark_60_secs_009.fits\n",
      "Calibrating dark: ./images/SN2021hiz/Dark/Dark_Dark_60_secs_010.fits and saving it to: Dark_Dark_60_secs_010.fits\n",
      "-------------- Combining darks --------------\n",
      "INFO: using the unit adu passed to the FITS reader instead of the unit adu in the FITS file. [astropy.nddata.ccddata]\n",
      "INFO: using the unit adu passed to the FITS reader instead of the unit adu in the FITS file. [astropy.nddata.ccddata]\n",
      "INFO: using the unit adu passed to the FITS reader instead of the unit adu in the FITS file. [astropy.nddata.ccddata]\n",
      "INFO: using the unit adu passed to the FITS reader instead of the unit adu in the FITS file. [astropy.nddata.ccddata]\n",
      "INFO: using the unit adu passed to the FITS reader instead of the unit adu in the FITS file. [astropy.nddata.ccddata]\n",
      "INFO: using the unit adu passed to the FITS reader instead of the unit adu in the FITS file. [astropy.nddata.ccddata]\n",
      "INFO: using the unit adu passed to the FITS reader instead of the unit adu in the FITS file. [astropy.nddata.ccddata]\n"
     ]
    },
    {
     "name": "stderr",
     "output_type": "stream",
     "text": [
      "INFO:astropy:using the unit adu passed to the FITS reader instead of the unit adu in the FITS file.\n",
      "INFO:astropy:using the unit adu passed to the FITS reader instead of the unit adu in the FITS file.\n",
      "INFO:astropy:using the unit adu passed to the FITS reader instead of the unit adu in the FITS file.\n",
      "INFO:astropy:using the unit adu passed to the FITS reader instead of the unit adu in the FITS file.\n"
     ]
    },
    {
     "name": "stdout",
     "output_type": "stream",
     "text": [
      "INFO: using the unit adu passed to the FITS reader instead of the unit adu in the FITS file. [astropy.nddata.ccddata]\n",
      "INFO: using the unit adu passed to the FITS reader instead of the unit adu in the FITS file. [astropy.nddata.ccddata]\n",
      "INFO: using the unit adu passed to the FITS reader instead of the unit adu in the FITS file. [astropy.nddata.ccddata]\n",
      "INFO: using the unit adu passed to the FITS reader instead of the unit adu in the FITS file. [astropy.nddata.ccddata]\n",
      "-------------- Calibrating Flats --------------\n"
     ]
    },
    {
     "name": "stderr",
     "output_type": "stream",
     "text": [
      "INFO:astropy:using the unit adu passed to the FITS reader instead of the unit adu in the FITS file.\n",
      "INFO:astropy:using the unit adu passed to the FITS reader instead of the unit adu in the FITS file.\n",
      "INFO:astropy:using the unit adu passed to the FITS reader instead of the unit adu in the FITS file.\n",
      "INFO:astropy:using the unit adu passed to the FITS reader instead of the unit adu in the FITS file.\n",
      "INFO:astropy:using the unit adu passed to the FITS reader instead of the unit adu in the FITS file.\n",
      "INFO:astropy:using the unit adu passed to the FITS reader instead of the unit adu in the FITS file.\n"
     ]
    },
    {
     "name": "stdout",
     "output_type": "stream",
     "text": [
      "-------------- Combining Flats --------------\n",
      "INFO: using the unit adu passed to the FITS reader instead of the unit adu in the FITS file. [astropy.nddata.ccddata]\n",
      "INFO: using the unit adu passed to the FITS reader instead of the unit adu in the FITS file. [astropy.nddata.ccddata]\n",
      "INFO: using the unit adu passed to the FITS reader instead of the unit adu in the FITS file. [astropy.nddata.ccddata]\n",
      "INFO: using the unit adu passed to the FITS reader instead of the unit adu in the FITS file. [astropy.nddata.ccddata]\n",
      "INFO: using the unit adu passed to the FITS reader instead of the unit adu in the FITS file. [astropy.nddata.ccddata]\n",
      "INFO: using the unit adu passed to the FITS reader instead of the unit adu in the FITS file. [astropy.nddata.ccddata]\n"
     ]
    },
    {
     "name": "stderr",
     "output_type": "stream",
     "text": [
      "INFO:astropy:using the unit adu passed to the FITS reader instead of the unit adu in the FITS file.\n",
      "INFO:astropy:using the unit adu passed to the FITS reader instead of the unit adu in the FITS file.\n",
      "INFO:astropy:using the unit adu passed to the FITS reader instead of the unit adu in the FITS file.\n",
      "INFO:astropy:using the unit adu passed to the FITS reader instead of the unit adu in the FITS file.\n",
      "INFO:astropy:using the unit adu passed to the FITS reader instead of the unit adu in the FITS file.\n"
     ]
    },
    {
     "name": "stdout",
     "output_type": "stream",
     "text": [
      "INFO: using the unit adu passed to the FITS reader instead of the unit adu in the FITS file. [astropy.nddata.ccddata]\n",
      "INFO: using the unit adu passed to the FITS reader instead of the unit adu in the FITS file. [astropy.nddata.ccddata]\n",
      "INFO: using the unit adu passed to the FITS reader instead of the unit adu in the FITS file. [astropy.nddata.ccddata]\n",
      "INFO: using the unit adu passed to the FITS reader instead of the unit adu in the FITS file. [astropy.nddata.ccddata]\n",
      "INFO: using the unit adu passed to the FITS reader instead of the unit adu in the FITS file. [astropy.nddata.ccddata]\n"
     ]
    },
    {
     "name": "stderr",
     "output_type": "stream",
     "text": [
      "INFO:astropy:using the unit adu passed to the FITS reader instead of the unit adu in the FITS file.\n",
      "INFO:astropy:using the unit adu passed to the FITS reader instead of the unit adu in the FITS file.\n",
      "INFO:astropy:using the unit adu passed to the FITS reader instead of the unit adu in the FITS file.\n",
      "INFO:astropy:using the unit adu passed to the FITS reader instead of the unit adu in the FITS file.\n",
      "INFO:astropy:using the unit adu passed to the FITS reader instead of the unit adu in the FITS file.\n",
      "INFO:astropy:using the unit adu passed to the FITS reader instead of the unit adu in the FITS file.\n",
      "INFO:astropy:using the unit adu passed to the FITS reader instead of the unit adu in the FITS file.\n",
      "INFO:astropy:using the unit adu passed to the FITS reader instead of the unit adu in the FITS file.\n",
      "INFO:astropy:using the unit adu passed to the FITS reader instead of the unit adu in the FITS file.\n",
      "INFO:astropy:using the unit adu passed to the FITS reader instead of the unit adu in the FITS file.\n"
     ]
    },
    {
     "name": "stdout",
     "output_type": "stream",
     "text": [
      "INFO: using the unit adu passed to the FITS reader instead of the unit adu in the FITS file. [astropy.nddata.ccddata]\n",
      "INFO: using the unit adu passed to the FITS reader instead of the unit adu in the FITS file. [astropy.nddata.ccddata]\n",
      "INFO: using the unit adu passed to the FITS reader instead of the unit adu in the FITS file. [astropy.nddata.ccddata]\n",
      "INFO: using the unit adu passed to the FITS reader instead of the unit adu in the FITS file. [astropy.nddata.ccddata]\n",
      "INFO: using the unit adu passed to the FITS reader instead of the unit adu in the FITS file. [astropy.nddata.ccddata]\n",
      "INFO: using the unit adu passed to the FITS reader instead of the unit adu in the FITS file. [astropy.nddata.ccddata]\n",
      "INFO: using the unit adu passed to the FITS reader instead of the unit adu in the FITS file. [astropy.nddata.ccddata]\n",
      "INFO: using the unit adu passed to the FITS reader instead of the unit adu in the FITS file. [astropy.nddata.ccddata]\n",
      "INFO: using the unit adu passed to the FITS reader instead of the unit adu in the FITS file. [astropy.nddata.ccddata]\n",
      "INFO: using the unit adu passed to the FITS reader instead of the unit adu in the FITS file. [astropy.nddata.ccddata]\n",
      "-------------- Calibrating Lights --------------\n"
     ]
    },
    {
     "name": "stderr",
     "output_type": "stream",
     "text": [
      "INFO:astropy:using the unit adu passed to the FITS reader instead of the unit adu in the FITS file.\n",
      "WARNING: FITSFixedWarning: RADECSYS= 'FK5 ' / RADECSYS \n",
      "the RADECSYS keyword is deprecated, use RADESYSa. [astropy.wcs.wcs]\n",
      "WARNING:astropy:FITSFixedWarning: RADECSYS= 'FK5 ' / RADECSYS \n",
      "the RADECSYS keyword is deprecated, use RADESYSa.\n",
      "INFO:astropy:using the unit adu passed to the FITS reader instead of the unit adu in the FITS file.\n",
      "INFO:astropy:using the unit adu passed to the FITS reader instead of the unit adu in the FITS file.\n",
      "WARNING: FITSFixedWarning: RADECSYS= 'FK5 ' / RADECSYS \n",
      "the RADECSYS keyword is deprecated, use RADESYSa. [astropy.wcs.wcs]\n",
      "WARNING:astropy:FITSFixedWarning: RADECSYS= 'FK5 ' / RADECSYS \n",
      "the RADECSYS keyword is deprecated, use RADESYSa.\n",
      "INFO:astropy:using the unit adu passed to the FITS reader instead of the unit adu in the FITS file.\n",
      "WARNING: FITSFixedWarning: RADECSYS= 'FK5 ' / RADECSYS \n",
      "the RADECSYS keyword is deprecated, use RADESYSa. [astropy.wcs.wcs]\n",
      "WARNING:astropy:FITSFixedWarning: RADECSYS= 'FK5 ' / RADECSYS \n",
      "the RADECSYS keyword is deprecated, use RADESYSa.\n",
      "INFO:astropy:using the unit adu passed to the FITS reader instead of the unit adu in the FITS file.\n",
      "WARNING: FITSFixedWarning: RADECSYS= 'FK5 ' / RADECSYS \n",
      "the RADECSYS keyword is deprecated, use RADESYSa. [astropy.wcs.wcs]\n",
      "WARNING:astropy:FITSFixedWarning: RADECSYS= 'FK5 ' / RADECSYS \n",
      "the RADECSYS keyword is deprecated, use RADESYSa.\n",
      "INFO:astropy:using the unit adu passed to the FITS reader instead of the unit adu in the FITS file.\n",
      "WARNING: FITSFixedWarning: RADECSYS= 'FK5 ' / RADECSYS \n",
      "the RADECSYS keyword is deprecated, use RADESYSa. [astropy.wcs.wcs]\n",
      "WARNING:astropy:FITSFixedWarning: RADECSYS= 'FK5 ' / RADECSYS \n",
      "the RADECSYS keyword is deprecated, use RADESYSa.\n",
      "INFO:astropy:using the unit adu passed to the FITS reader instead of the unit adu in the FITS file.\n",
      "WARNING: FITSFixedWarning: RADECSYS= 'FK5 ' / RADECSYS \n",
      "the RADECSYS keyword is deprecated, use RADESYSa. [astropy.wcs.wcs]\n",
      "WARNING:astropy:FITSFixedWarning: RADECSYS= 'FK5 ' / RADECSYS \n",
      "the RADECSYS keyword is deprecated, use RADESYSa.\n",
      "INFO:astropy:using the unit adu passed to the FITS reader instead of the unit adu in the FITS file.\n",
      "WARNING: FITSFixedWarning: RADECSYS= 'FK5 ' / RADECSYS \n",
      "the RADECSYS keyword is deprecated, use RADESYSa. [astropy.wcs.wcs]\n",
      "WARNING:astropy:FITSFixedWarning: RADECSYS= 'FK5 ' / RADECSYS \n",
      "the RADECSYS keyword is deprecated, use RADESYSa.\n",
      "INFO:astropy:using the unit adu passed to the FITS reader instead of the unit adu in the FITS file.\n",
      "WARNING: FITSFixedWarning: RADECSYS= 'FK5 ' / RADECSYS \n",
      "the RADECSYS keyword is deprecated, use RADESYSa. [astropy.wcs.wcs]\n",
      "WARNING:astropy:FITSFixedWarning: RADECSYS= 'FK5 ' / RADECSYS \n",
      "the RADECSYS keyword is deprecated, use RADESYSa.\n",
      "INFO:astropy:using the unit adu passed to the FITS reader instead of the unit adu in the FITS file.\n",
      "WARNING: FITSFixedWarning: RADECSYS= 'FK5 ' / RADECSYS \n",
      "the RADECSYS keyword is deprecated, use RADESYSa. [astropy.wcs.wcs]\n",
      "WARNING:astropy:FITSFixedWarning: RADECSYS= 'FK5 ' / RADECSYS \n",
      "the RADECSYS keyword is deprecated, use RADESYSa.\n",
      "INFO:astropy:using the unit adu passed to the FITS reader instead of the unit adu in the FITS file.\n",
      "WARNING: FITSFixedWarning: RADECSYS= 'FK5 ' / RADECSYS \n",
      "the RADECSYS keyword is deprecated, use RADESYSa. [astropy.wcs.wcs]\n",
      "WARNING:astropy:FITSFixedWarning: RADECSYS= 'FK5 ' / RADECSYS \n",
      "the RADECSYS keyword is deprecated, use RADESYSa.\n"
     ]
    },
    {
     "name": "stdout",
     "output_type": "stream",
     "text": [
      "-------------- Calibrating Lights --------------\n",
      "INFO: using the unit adu passed to the FITS reader instead of the unit adu in the FITS file. [astropy.nddata.ccddata]\n",
      "INFO: using the unit adu passed to the FITS reader instead of the unit adu in the FITS file. [astropy.nddata.ccddata]\n",
      "INFO: using the unit adu passed to the FITS reader instead of the unit adu in the FITS file. [astropy.nddata.ccddata]\n",
      "INFO: using the unit adu passed to the FITS reader instead of the unit adu in the FITS file. [astropy.nddata.ccddata]\n",
      "INFO: using the unit adu passed to the FITS reader instead of the unit adu in the FITS file. [astropy.nddata.ccddata]\n",
      "INFO: using the unit adu passed to the FITS reader instead of the unit adu in the FITS file. [astropy.nddata.ccddata]\n",
      "INFO: using the unit adu passed to the FITS reader instead of the unit adu in the FITS file. [astropy.nddata.ccddata]\n",
      "INFO: using the unit adu passed to the FITS reader instead of the unit adu in the FITS file. [astropy.nddata.ccddata]\n",
      "INFO: using the unit adu passed to the FITS reader instead of the unit adu in the FITS file. [astropy.nddata.ccddata]\n",
      "INFO: using the unit adu passed to the FITS reader instead of the unit adu in the FITS file. [astropy.nddata.ccddata]\n",
      "INFO: using the unit adu passed to the FITS reader instead of the unit adu in the FITS file. [astropy.nddata.ccddata]\n",
      "-------------- Finished calibration --------------\n"
     ]
    }
   ],
   "source": [
    "print('-------------- Starting calibration --------------')\n",
    "calibrate_images(pars)\n",
    "print('-------------- Finished calibration --------------')"
   ]
  },
  {
   "cell_type": "code",
   "execution_count": null,
   "id": "97cdd841",
   "metadata": {},
   "outputs": [],
   "source": []
  }
 ],
 "metadata": {
  "kernelspec": {
   "display_name": "Python 3.8.5 64-bit",
   "language": "python",
   "name": "python385jvsc74a57bd031f2aee4e71d21fbe5cf8b01ff0e069b9275f58929596ceb00d14d90e3e16cd6"
  },
  "language_info": {
   "codemirror_mode": {
    "name": "ipython",
    "version": 3
   },
   "file_extension": ".py",
   "mimetype": "text/x-python",
   "name": "python",
   "nbconvert_exporter": "python",
   "pygments_lexer": "ipython3",
   "version": "3.8.5"
  }
 },
 "nbformat": 4,
 "nbformat_minor": 5
}
